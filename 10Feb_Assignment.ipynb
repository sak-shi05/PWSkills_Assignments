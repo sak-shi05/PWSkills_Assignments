{
 "cells": [
  {
   "cell_type": "markdown",
   "id": "2f8f40c1-bfd0-4d5a-bc14-f353a7b7c735",
   "metadata": {},
   "source": [
    "Q1. Which function is used to open a file? What are the different modes of opening a file? Explain each mode of file opening.\n",
    "\n",
    "•\tWe use open() function to open a file in python.\n",
    "•\ti.e f = open(\"file_name.extension\", \"opening_mode\")\n",
    "•\tThere are about 12 file opening modes in python.\n",
    "•\tWe generally use 6 out of 12 file opening modes.\n",
    "\n",
    "1) \"r\" - Read Only\n",
    "•\tThis is the defalt mode for opening a file.\n",
    "•\tIt is used for opening a text file with reading purpose.\n",
    "•\tThe file pointer is placed at the beginning of the file.\n",
    "•\tIt throws an I/O error in case the file doesn't exist.\n",
    "\n",
    "2) \"w\" - Write Only\n",
    "•\tIt is used for opening a text file with writing purpose.\n",
    "•\tIt creates the file if the file doesn't exist.\n",
    "•\tIf the file exists, the file content is overwritten with new content passed by the user.\n",
    "•\tThe file pointer is placed at the beginning of the file.\n",
    "\n",
    "3) \"r+\" - Read and Write\n",
    "•\tIt is used for opening a text file with reading and writing purpose.\n",
    "•\tIt throws an I/O error in case the file doesn't exist.\n",
    "•\tThe file pointer is placed at the beginning of the file.\n",
    "\n",
    "4) \"w+\" - Write and Read\n",
    "•\tIt is used for opening a text file with reading and writing purpose.\n",
    "•\tIf the file exists, the file content is overwritten with new content passed by the user.\n",
    "•\tIt creates the file if the file doesn't exist.\n",
    "•\tThe file pointer is placed at the beginning of the file.\n",
    "\n",
    "5) \"a\" - Append Only\n",
    "•\tIt is used for opening a text file with writing purpose.\n",
    "•\tIt creates the file if the file doesn't exist.\n",
    "•\tIf the file exists, the new content is appended at the end of the file content.\n",
    "•\tThe file pointer is placed at the beginning of the file.\n",
    "\n",
    "6) \"a+\" - Append and Read\n",
    "•\tIt is used for opening a text file with reading and writing purpose.\n",
    "•\tIt creates the file if the file doesn't exist.\n",
    "•\tIf the file exists, the new content is appended at the end of the file content.\n",
    "•\tThe file pointer is placed at the beginning of the file.\n",
    "\n",
    "The other 6 operations are same as above with the only difference as they are opened in binary format.\n"
   ]
  },
  {
   "cell_type": "markdown",
   "id": "2ca71146-9b9f-45d1-ba6e-c6b8e3b8a8e4",
   "metadata": {},
   "source": [
    "Q2. Why close() function is used? Why is it important to close a file?\n",
    "\n",
    "•\tclose() function is used to close an opened file.\n",
    "•\tIt is important to close a file to deallocate the file descriptor because there is a limit for file descriptors in python as we have a limited resource on a computer.\n",
    "•\tContext Manager is used by using with statement to get rid of closing a file explicitly.\n"
   ]
  },
  {
   "cell_type": "markdown",
   "id": "cd2a9026-1895-4e0a-967a-30f04b2a0e1f",
   "metadata": {},
   "source": [
    "Q3. Write a python program to create a text file. Write ‘I want to become a Data Scientist’ in that file. Then close the file. Open this file and read the content of the file."
   ]
  },
  {
   "cell_type": "code",
   "execution_count": 1,
   "id": "0936f8d2-e676-4229-835d-6bfd9d156dfa",
   "metadata": {},
   "outputs": [
    {
     "name": "stdout",
     "output_type": "stream",
     "text": [
      "File created and written successfully\n",
      "I want to become a Data Scientist\n"
     ]
    }
   ],
   "source": [
    "f= open(\"test.txt\",\"w\")\n",
    "f.write(\"I want to become a Data Scientist\")\n",
    "f.close()\n",
    "\n",
    "print(\"File created and written successfully\")\n",
    "\n",
    "f=open(\"test.txt\",\"r\")\n",
    "print(f.read())\n",
    "f.close()"
   ]
  },
  {
   "cell_type": "markdown",
   "id": "c1229470-908f-4650-8449-d4ed05a48571",
   "metadata": {},
   "source": [
    "Q4. Explain the following with python code: read(), readline() and readlines().\n",
    "\n",
    "--> read()\n",
    "•\tIt returns the whole file content line by line.\n",
    "•\tWe can also specify number of bytes to return by passing a parameter.\n",
    "•\tDefault passed parameter is -1 which means the whole file.\n",
    "\n",
    "--> readline()\n",
    "•\tIt iterates one line at a time starting from beginning of the file.\n",
    "•\tWe can also specify number of bytes to return by passing a parameter.\n",
    "•\tDefault passed parameter is -1 which means the whole file.\n",
    "\n",
    "--> readlines()\n",
    "•\tThis method returns a list containing each line in the file as a list item.\n",
    "•\tWe can also specify number of bytes to return by passing a parameter.\n",
    "•\tDefault passed parameter is -1 which means the whole file.\n"
   ]
  },
  {
   "cell_type": "code",
   "execution_count": 10,
   "id": "5315bf4f-19ad-4f76-aa8e-0a77aec2affc",
   "metadata": {},
   "outputs": [
    {
     "name": "stdout",
     "output_type": "stream",
     "text": [
      "Python is the best programming language in the world in 2020\n",
      "Edureka is the biggest Ed-tech platform to learn python\n",
      "Python programming is as easy as writing a program in simple English language\n"
     ]
    }
   ],
   "source": [
    "file = open(\"filename.txt\", \"w\")\n",
    "file.write(\"\"\"Python is the best programming language in the world in 2020\n",
    "Edureka is the biggest Ed-tech platform to learn python\n",
    "Python programming is as easy as writing a program in simple English language\"\"\")\n",
    "file.close()\n",
    "           \n",
    "file = open(\"filename.txt\", \"r\")\n",
    "print(file.read())\n",
    "file.close()"
   ]
  },
  {
   "cell_type": "code",
   "execution_count": 11,
   "id": "b225a96f-eb82-4a4c-b36a-09d006539bda",
   "metadata": {},
   "outputs": [
    {
     "name": "stdout",
     "output_type": "stream",
     "text": [
      "Python is the best programming language in the world in 2020\n",
      "\n"
     ]
    }
   ],
   "source": [
    "file = open(\"filename.txt\", \"r\")\n",
    "print(file.readline())\n",
    "file.close()"
   ]
  },
  {
   "cell_type": "code",
   "execution_count": 12,
   "id": "e65398bf-1e17-40db-9f42-2ea2c0dd72ae",
   "metadata": {},
   "outputs": [
    {
     "name": "stdout",
     "output_type": "stream",
     "text": [
      "['Python is the best programming language in the world in 2020\\n', 'Edureka is the biggest Ed-tech platform to learn python\\n', 'Python programming is as easy as writing a program in simple English language']\n"
     ]
    }
   ],
   "source": [
    "file = open(\"filename.txt\", \"r\")\n",
    "print(file.readlines())\n",
    "file.close()"
   ]
  },
  {
   "cell_type": "markdown",
   "id": "80c9acf1-d281-4a28-bd51-f2ee02023c4b",
   "metadata": {},
   "source": [
    "Q5. Explain why with statement is used with open(). What is the advantage of using with statement and open() together?\n",
    "\n",
    "•\tThe with statement is used with the open() function to open a file. In Python, with statement is used in exception handling to make the code cleaner and much more readable. It simplifies the management of common resources like file streams. \n",
    "•\tWith statement is used so that we don't have to close the file descriptor explicitly.\n",
    "•\tWith statement helps us in a managing resource in an efficient manner.\n"
   ]
  },
  {
   "cell_type": "code",
   "execution_count": 18,
   "id": "def61783-910f-4b14-a55d-5cb6cb00e697",
   "metadata": {},
   "outputs": [
    {
     "name": "stdout",
     "output_type": "stream",
     "text": [
      "Hi there!\n"
     ]
    }
   ],
   "source": [
    "with open('output.txt', 'w') as file:  # Use file to refer to the file object\n",
    "\n",
    "    file.write('Hi there!')\n",
    "\n",
    "with open(\"output.txt\") as file: # Use file to refer to the file object\n",
    "\n",
    "   data = file.read()\n",
    "   print(data)"
   ]
  },
  {
   "cell_type": "markdown",
   "id": "cae35745-711e-4b21-a2fe-3b7d177d53db",
   "metadata": {},
   "source": [
    "Q6. Explain the write() and writelines() functions. Give a suitable example.\n",
    "\n",
    "1) write()\n",
    "•\twrite() function takes a string as an input argument and writes it to file\n",
    "•\tTo store data in line by line format, we have to add '\\n' character to the end of each string.\n",
    "•\tWhile writing a numeric value we have to either write it in quotes or typecast it into a string.\n",
    "\n",
    "2) writelines()\n",
    "•\twritelines() function is used to write iterables (e.g, string, list, tuple) in a file.\n",
    "•\tWhile writing a numeric value we have to either write it in quotes or typecast it into a string.\n"
   ]
  },
  {
   "cell_type": "code",
   "execution_count": 20,
   "id": "fc0ceda9-6cfe-4065-9cdf-475d0ff5bdb0",
   "metadata": {},
   "outputs": [
    {
     "name": "stdout",
     "output_type": "stream",
     "text": [
      "1st write\n",
      "2nd write\n",
      "3rd write\n",
      "44\n"
     ]
    }
   ],
   "source": [
    "f=open(\"test1.txt\",\"w\")\n",
    "f.write('1st write\\n')\n",
    "f.write('2nd write\\n')\n",
    "f.write('3rd write\\n')\n",
    "a = 44\n",
    "f.write(str(a))\n",
    "f.close()\n",
    "\n",
    "f = open(\"test1.txt\")\n",
    "print(f.read())\n",
    "f.close()"
   ]
  },
  {
   "cell_type": "code",
   "execution_count": 21,
   "id": "175c9d6a-8b85-417f-bc20-ded7e806abc1",
   "metadata": {},
   "outputs": [
    {
     "name": "stdout",
     "output_type": "stream",
     "text": [
      "1st Write2nd Write3rd Write\n"
     ]
    }
   ],
   "source": [
    "f = open(\"t1.txt\", \"w\")\n",
    "l = [\"1st Write\", \"2nd Write\", \"3rd Write\"]\n",
    "f.writelines(l)  # or\n",
    "# for i in l:\n",
    "#     f.writelines(i)\n",
    "f.close()\n",
    "\n",
    "f = open(\"t1.txt\")\n",
    "print(f.read())\n",
    "f.close()"
   ]
  }
 ],
 "metadata": {
  "kernelspec": {
   "display_name": "Python 3 (ipykernel)",
   "language": "python",
   "name": "python3"
  },
  "language_info": {
   "codemirror_mode": {
    "name": "ipython",
    "version": 3
   },
   "file_extension": ".py",
   "mimetype": "text/x-python",
   "name": "python",
   "nbconvert_exporter": "python",
   "pygments_lexer": "ipython3",
   "version": "3.10.8"
  }
 },
 "nbformat": 4,
 "nbformat_minor": 5
}
